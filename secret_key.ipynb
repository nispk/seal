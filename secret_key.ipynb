{
 "cells": [
  {
   "cell_type": "code",
   "execution_count": 1,
   "metadata": {},
   "outputs": [],
   "source": [
    "import matplotlib.pyplot as plt\n",
    "import numpy as np\n",
    "import pandas as pd"
   ]
  },
  {
   "cell_type": "code",
   "execution_count": 2,
   "metadata": {},
   "outputs": [],
   "source": [
    "df = pd.read_csv(r'C:\\Users\\npkal\\Desktop\\secret_key.csv')"
   ]
  },
  {
   "cell_type": "code",
   "execution_count": 3,
   "metadata": {},
   "outputs": [
    {
     "data": {
      "text/html": [
       "<div>\n",
       "<style scoped>\n",
       "    .dataframe tbody tr th:only-of-type {\n",
       "        vertical-align: middle;\n",
       "    }\n",
       "\n",
       "    .dataframe tbody tr th {\n",
       "        vertical-align: top;\n",
       "    }\n",
       "\n",
       "    .dataframe thead th {\n",
       "        text-align: right;\n",
       "    }\n",
       "</style>\n",
       "<table border=\"1\" class=\"dataframe\">\n",
       "  <thead>\n",
       "    <tr style=\"text-align: right;\">\n",
       "      <th></th>\n",
       "      <th>poly_mod</th>\n",
       "      <th>sec_128(BFV)</th>\n",
       "      <th>sec_128(CKKS)</th>\n",
       "      <th>sec_192(BFV)</th>\n",
       "      <th>sec_192(CKKS)</th>\n",
       "      <th>sec_256(BFV)</th>\n",
       "      <th>sec_256(CKKS)</th>\n",
       "    </tr>\n",
       "  </thead>\n",
       "  <tbody>\n",
       "    <tr>\n",
       "      <th>0</th>\n",
       "      <td>1024</td>\n",
       "      <td>1</td>\n",
       "      <td>1</td>\n",
       "      <td>1</td>\n",
       "      <td>1</td>\n",
       "      <td>1</td>\n",
       "      <td>1</td>\n",
       "    </tr>\n",
       "    <tr>\n",
       "      <th>1</th>\n",
       "      <td>2048</td>\n",
       "      <td>2</td>\n",
       "      <td>2</td>\n",
       "      <td>2</td>\n",
       "      <td>2</td>\n",
       "      <td>2</td>\n",
       "      <td>2</td>\n",
       "    </tr>\n",
       "    <tr>\n",
       "      <th>2</th>\n",
       "      <td>4096</td>\n",
       "      <td>12</td>\n",
       "      <td>12</td>\n",
       "      <td>12</td>\n",
       "      <td>12</td>\n",
       "      <td>4</td>\n",
       "      <td>4</td>\n",
       "    </tr>\n",
       "    <tr>\n",
       "      <th>3</th>\n",
       "      <td>8192</td>\n",
       "      <td>40</td>\n",
       "      <td>40</td>\n",
       "      <td>32</td>\n",
       "      <td>32</td>\n",
       "      <td>24</td>\n",
       "      <td>24</td>\n",
       "    </tr>\n",
       "    <tr>\n",
       "      <th>4</th>\n",
       "      <td>16384</td>\n",
       "      <td>144</td>\n",
       "      <td>144</td>\n",
       "      <td>96</td>\n",
       "      <td>96</td>\n",
       "      <td>80</td>\n",
       "      <td>80</td>\n",
       "    </tr>\n",
       "    <tr>\n",
       "      <th>5</th>\n",
       "      <td>32768</td>\n",
       "      <td>512</td>\n",
       "      <td>512</td>\n",
       "      <td>352</td>\n",
       "      <td>352</td>\n",
       "      <td>288</td>\n",
       "      <td>288</td>\n",
       "    </tr>\n",
       "  </tbody>\n",
       "</table>\n",
       "</div>"
      ],
      "text/plain": [
       "   poly_mod  sec_128(BFV)  sec_128(CKKS)  sec_192(BFV)  sec_192(CKKS)  \\\n",
       "0      1024             1              1             1              1   \n",
       "1      2048             2              2             2              2   \n",
       "2      4096            12             12            12             12   \n",
       "3      8192            40             40            32             32   \n",
       "4     16384           144            144            96             96   \n",
       "5     32768           512            512           352            352   \n",
       "\n",
       "   sec_256(BFV)  sec_256(CKKS)  \n",
       "0             1              1  \n",
       "1             2              2  \n",
       "2             4              4  \n",
       "3            24             24  \n",
       "4            80             80  \n",
       "5           288            288  "
      ]
     },
     "execution_count": 3,
     "metadata": {},
     "output_type": "execute_result"
    }
   ],
   "source": [
    "df"
   ]
  },
  {
   "cell_type": "code",
   "execution_count": null,
   "metadata": {},
   "outputs": [],
   "source": [
    "df['Unnamed: 6']"
   ]
  },
  {
   "cell_type": "code",
   "execution_count": null,
   "metadata": {},
   "outputs": [],
   "source": [
    "\n",
    "\n",
    "plt.plot( 'poly_mod', 'sec_128(BFV)', data=df, color='skyblue', linewidth=4, label=\"sec_128\")\n",
    "plt.plot( 'poly_mod', 'sec_192(BFV)', data=df, color='skyblue', linewidth=4, linestyle='dashed', label= \"sec_192\")\n",
    "plt.plot( 'poly_mod', 'sec_256(BFV)', data=df, color='skyblue', linewidth=4, linestyle='dotted', label=\"sec_256\")\n",
    "plt.plot('poly_mod', 'sec_128(CKKS)', data=df, color='olive', linewidth=2, label='sec_128')\n",
    "plt.plot('poly_mod', 'sec_192(CKKS)', data=df, color='olive', linewidth = 2, linestyle = 'dashed', label=\"sec_192\")\n",
    "plt.plot('poly_mod', 'sec_256(CKKS)', data=df, color='olive', linewidth=1, linestyle= 'dotted', label=\"sec_256\")\n",
    "\n",
    "plt.legend()"
   ]
  },
  {
   "cell_type": "code",
   "execution_count": 6,
   "metadata": {},
   "outputs": [
    {
     "data": {
      "image/png": "[encoded data removed]",
      "text/plain": [
       "<Figure size 432x288 with 1 Axes>"
      ]
     },
     "metadata": {
      "needs_background": "light"
     },
     "output_type": "display_data"
    }
   ],
   "source": [
    "fig, ax = plt.subplots()\n",
    "ax1, = ax.plot('poly_mod', 'sec_128(BFV)', data=df, color='green', linewidth=4, label=\"sec_128(BFV)\")\n",
    "ax2, = ax.plot('poly_mod', 'sec_192(BFV)', data=df, color='green', linewidth=4, linestyle='dashed', label= \"sec_192(BFV)\")\n",
    "ax3, = ax.plot('poly_mod', 'sec_256(BFV)', data=df, color='green', linewidth=4, linestyle='dotted', label=\"sec_256(BFV)\")\n",
    "ax4, = ax.plot('poly_mod', 'sec_128(CKKS)', data=df, color='magenta', linewidth=2, label='sec_128(CKKS)')\n",
    "ax5, = ax.plot('poly_mod', 'sec_192(CKKS)', data=df, color='magenta', linewidth = 2, linestyle = 'dashed', label=\"sec_192(CKKS)\")\n",
    "ax6, = ax.plot('poly_mod', 'sec_256(CKKS)', data=df, color='magenta', linewidth = 2, linestyle = 'dotted', label=\"sec_256(CKKS)\")\n",
    "ax.set_xlabel('poly_modulus_degree')\n",
    "ax.set_ylabel('storage space in KB')\n",
    "ax.set_title('Secret Key')\n",
    "\n",
    "leg = ax.legend()\n",
    "\n",
    "leg.texts[0].set_color(ax1.get_color())\n",
    "leg.texts[1].set_color(ax2.get_color())\n",
    "leg.texts[2].set_color(ax3.get_color())\n",
    "leg.texts[3].set_color(ax4.get_color())\n",
    "leg.texts[4].set_color(ax5.get_color())\n",
    "leg.texts[5].set_color(ax6.get_color())\n",
    "\n",
    "plt.show()"
   ]
  },
  {
   "cell_type": "code",
   "execution_count": 7,
   "metadata": {},
   "outputs": [],
   "source": [
    "fig.savefig('Secret Key.png')"
   ]
  },
  {
   "cell_type": "code",
   "execution_count": null,
   "metadata": {},
   "outputs": [],
   "source": []
  }
 ],
 "metadata": {
  "kernelspec": {
   "display_name": "Python 3",
   "language": "python",
   "name": "python3"
  },
  "language_info": {
   "codemirror_mode": {
    "name": "ipython",
    "version": 3
   },
   "file_extension": ".py",
   "mimetype": "text/x-python",
   "name": "python",
   "nbconvert_exporter": "python",
   "pygments_lexer": "ipython3",
   "version": "3.7.3"
  }
 },
 "nbformat": 4,
 "nbformat_minor": 2
}
